{
 "metadata": {
  "language_info": {
   "codemirror_mode": {
    "name": "ipython",
    "version": 3
   },
   "file_extension": ".py",
   "mimetype": "text/x-python",
   "name": "python",
   "nbconvert_exporter": "python",
   "pygments_lexer": "ipython3",
   "version": "3.8.3-final"
  },
  "orig_nbformat": 2,
  "kernelspec": {
   "name": "python3",
   "display_name": "Python 3"
  }
 },
 "nbformat": 4,
 "nbformat_minor": 2,
 "cells": [
  {
   "cell_type": "code",
   "execution_count": 1,
   "metadata": {},
   "outputs": [],
   "source": [
    "import string"
   ]
  },
  {
   "cell_type": "code",
   "execution_count": 2,
   "metadata": {},
   "outputs": [],
   "source": [
    "def create_shift_substitutions(n):\n",
    "    encoding = {}\n",
    "    decoding = {}\n",
    "    alphabet_size = len(string.ascii_uppercase)\n",
    "    for i in range(alphabet_size):\n",
    "        letter = string.ascii_uppercase[i]\n",
    "        subs_letter = string.ascii_uppercase[(i+n)%alphabet_size]\n",
    "        encoding[letter] = subs_letter\n",
    "        decoding[subs_letter] = letter\n",
    "    return encoding,decoding"
   ]
  },
  {
   "cell_type": "code",
   "execution_count": 3,
   "metadata": {},
   "outputs": [],
   "source": [
    "def encode(message,substn):\n",
    "    cipher = \"\"\n",
    "    for x in message:\n",
    "        if x in substn:\n",
    "            cipher = cipher + substn[x]\n",
    "        else :\n",
    "            cipher+=x\n",
    "    return cipher"
   ]
  },
  {
   "cell_type": "code",
   "execution_count": 4,
   "metadata": {},
   "outputs": [],
   "source": [
    "en,sb = create_shift_substitutions(5)"
   ]
  },
  {
   "cell_type": "code",
   "execution_count": 5,
   "metadata": {},
   "outputs": [
    {
     "output_type": "execute_result",
     "data": {
      "text/plain": [
       "'HT IVHZ DN OVH'"
      ]
     },
     "metadata": {},
     "execution_count": 5
    }
   ],
   "source": [
    "encode(\"MY NAME IS TAM\",sb)"
   ]
  },
  {
   "cell_type": "code",
   "execution_count": null,
   "metadata": {},
   "outputs": [],
   "source": []
  }
 ]
}